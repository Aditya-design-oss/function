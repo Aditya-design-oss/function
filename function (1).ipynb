{
  "nbformat": 4,
  "nbformat_minor": 0,
  "metadata": {
    "colab": {
      "provenance": []
    },
    "kernelspec": {
      "name": "python3",
      "display_name": "Python 3"
    },
    "language_info": {
      "name": "python"
    }
  },
  "cells": [
    {
      "cell_type": "markdown",
      "source": [],
      "metadata": {
        "id": "bQXKSNQh53Tq"
      }
    },
    {
      "cell_type": "code",
      "source": [
        "''' 1: What is the difference between a function and a method in Python?\n",
        "\n",
        "    - Function is a block of code that perform a specific tasks and is defined using def keyword. It can exit independently. We use function to reduce the repetitive task by writing a long bunch of codes.\n",
        "      Method is a fuction that is assosciated with an object and is called on that object. It's defined inside the class.\n",
        "\n",
        "2: Explain the concept of function arguments and parameters in Python.\n",
        "\n",
        "    - Parameters are the variables which are listed in the function definition while creating the function.\n",
        "      eg, def sum(a,b): -> here a & b are the parameter\n",
        "      Arguments are the values passed to the function when it is called to perform certain tasks.\n",
        "      eg, sum(2,4) -> here 2 & 3 are the argument which is passed while performing certain task.\n",
        "\n",
        "3: What are the different ways to define and call a function in Python?\n",
        "\n",
        "    - To define the function is python there are ways like we can use \"def\" and \"lambda\".\n",
        "      eg, def sum(a,b)\n",
        "      eg, lambda sum: a+b\n",
        "      To call the function we can use the function name followed by parantheses.\n",
        "      eg, add(2,5)\n",
        "\n",
        "4: What is the purpose of the return statement in a Python function?\n",
        "\n",
        "    - We use the return function at the end to exit and return the value performed by the function to caller.\n",
        "      def sum(a,b): return a+b\n",
        "\n",
        "5: What are iterators in Python and how do they differ from iterables?\n",
        "\n",
        "    - Iterators are the object with a next() menthod that retirn the next items.\n",
        "      Iterables are the object capable of returning its members one at a time like lists, tuples.\n",
        "\n",
        "6: Explain the concept of generators in Python and how they are defined.\n",
        "\n",
        "    - Generators are the functions that, instead of returning a single value and exiting, yield a sequence of values over time. The key characteristic of a generator is that it doesn't build a list of values in memory all at once. Instead, it generates them one by one, only when requested. This makes them incredibly memory-efficient for large sequences and allows for potentially infinite sequences. -def cnt(n): i = 1 i <= n: yield i i += 1\n",
        "\n",
        "7: What are the advantages of using generators over regular functions?\n",
        "\n",
        "    - Generators are a fundamental concept in Python for writing efficient, scalable, and elegant code when dealing with sequences of data, especially when those sequences are large, infinite, or part of a data processing pipeline. Iterators are also simple for creating.\n",
        "\n",
        "8: What is a lambda function in Python and when is it typically used?\n",
        "\n",
        "    - Lambda functions are the small anonymous functions defined using the keyword lambda.\n",
        "      When we have to use short functions we create lambda functions and these functions are oftenly used with map(), filter(), etc. functions. eg: square = lambda x: x * x square(4)\n",
        "\n",
        "9: Explain the purpose and usage of the map() function in Python.\n",
        "\n",
        "    - map() is a valuable tool in a Python for applying transformations across iterables efficiently and concisely, particularly useful when working with large datasets.\n",
        "      eg: numbers = [1, 2, 3, 4, 5] squarenum = map(lambda x: x * x, numbers) print(list(squarenum))\n",
        "\n",
        "10: What is the difference between map(), reduce(), and filter() functions in Python?\n",
        "\n",
        "    - map(): Applies a function to each item in an iterable and returns a new iterable (map object) containing the results of the transformation.\n",
        "      reduce(): Applies a function (that returns True or False) to each item in an iterable and returns a new iterable (filter object) containing only the items for which the function returned True.\n",
        "      filter(): Applies a function (that takes two arguments) cumulatively to the items of an iterable to reduce the iterable to a single cumulative result.\n",
        "\n",
        "11: Using pen & Paper write the internal mechanism for sum operation using reduce function on this given list:[47,11,42,13];\n",
        "\n",
        "      I've added the hand drawn mechanism in the doc file where I''ve given the github link, please refer from there.\"\"\"  '''\n"
      ],
      "metadata": {
        "id": "YY3DQsBv6Ae-"
      },
      "execution_count": null,
      "outputs": []
    },
    {
      "cell_type": "code",
      "execution_count": null,
      "metadata": {
        "colab": {
          "base_uri": "https://localhost:8080/"
        },
        "id": "pvndpvGS6Cin",
        "outputId": "48bc0760-96d7-4072-9704-6cbca04d9f19"
      },
      "outputs": [
        {
          "output_type": "execute_result",
          "data": {
            "text/plain": [
              "364"
            ]
          },
          "metadata": {},
          "execution_count": 1
        }
      ],
      "source": [
        "#1: Write a Python function that takes a list of numbers as input and returns the sum of all even numbers in the list.\n",
        "numbers=[11,22,33,44,58,78,98,64]\n",
        "def sumeven(numbers):\n",
        "    return sum(num for num in numbers if num % 2 == 0)\n",
        "\n",
        "sumeven(numbers)"
      ]
    },
    {
      "cell_type": "code",
      "execution_count": null,
      "metadata": {
        "colab": {
          "base_uri": "https://localhost:8080/",
          "height": 54
        },
        "id": "bOpguBz36Bdb",
        "outputId": "4952e985-2590-4342-86a7-a2ba824197f3"
      },
      "outputs": [
        {
          "name": "stdout",
          "output_type": "stream",
          "text": [
            "enter a wordstop installation\n"
          ]
        },
        {
          "output_type": "execute_result",
          "data": {
            "text/plain": [
              "'noitallatsni pots'"
            ],
            "application/vnd.google.colaboratory.intrinsic+json": {
              "type": "string"
            }
          },
          "metadata": {},
          "execution_count": 4
        }
      ],
      "source": [
        "#2:Create a Python function that accepts a string and returns the reverse of that string.\n",
        "user_str = input('enter a word')\n",
        "def reverse_str(user_str):\n",
        "  return user_str[::-1]\n",
        "\n",
        "reverse_str(user_str)"
      ]
    },
    {
      "cell_type": "code",
      "execution_count": null,
      "metadata": {
        "id": "gwEta1Oo5xYW",
        "colab": {
          "base_uri": "https://localhost:8080/"
        },
        "outputId": "bb47db95-9275-49d0-df9f-af16d1c2f298"
      },
      "outputs": [
        {
          "output_type": "stream",
          "name": "stdout",
          "text": [
            "[121, 484, 1089, 1936, 3364, 6084, 9604, 4096]\n"
          ]
        }
      ],
      "source": [
        "#3: Implement a Python function that takes a list of integers and returns a new list containing the squares of each number.\n",
        "list1 = [11,22,33,44,58,78,98,64]\n",
        "square = list(map(lambda x: x**2,list1))\n",
        "print(square)\n"
      ]
    },
    {
      "cell_type": "code",
      "source": [
        "#4. Write a Python function that checks if a given number is prime or not from 1 to 200.\n",
        "def isPrime(n):\n",
        "    if n < 2:\n",
        "        return False\n",
        "    for i in range(2, int(n**0.5) + 1):\n",
        "        if n % i == 0:\n",
        "            return 'No its not a prime number'\n",
        "    return 'Yes its Prime number'\n",
        "\n",
        "\n",
        "isPrime(29)"
      ],
      "metadata": {
        "colab": {
          "base_uri": "https://localhost:8080/",
          "height": 36
        },
        "id": "oeXT36RDUkhi",
        "outputId": "dc7736ae-c804-44da-8d41-7eb04511b967"
      },
      "execution_count": null,
      "outputs": [
        {
          "output_type": "execute_result",
          "data": {
            "text/plain": [
              "'Yes its Prime number'"
            ],
            "application/vnd.google.colaboratory.intrinsic+json": {
              "type": "string"
            }
          },
          "metadata": {},
          "execution_count": 18
        }
      ]
    },
    {
      "cell_type": "code",
      "source": [
        "#5: Create an iterator class in Python that generates the Fibonacci sequence up to a specified number of terms.\n",
        "class FibonacciIterator:\n",
        "    def __init__(self, max_terms):\n",
        "        self.max_terms = max_terms\n",
        "        self.count = 0\n",
        "        self.a, self.b = 0, 1\n",
        "\n",
        "    def __iter__(self):\n",
        "        return self\n",
        "\n",
        "    def __next__(self):\n",
        "        if self.count >= self.max_terms:\n",
        "            raise StopIteration\n",
        "        value = self.a\n",
        "        self.a, self.b = self.b, self.a + self.b\n",
        "        self.count += 1\n",
        "        return value\n",
        "\n",
        "# Create an instance of the iterator\n",
        "fib = FibonacciIterator(15)\n",
        "\n",
        "# Iterate through the Fibonacci sequence\n",
        "for num in fib:\n",
        "    print(num)"
      ],
      "metadata": {
        "colab": {
          "base_uri": "https://localhost:8080/"
        },
        "id": "u_-iBIcxVIcq",
        "outputId": "ab880f5b-b9a1-48d4-933e-1ee693be8dda"
      },
      "execution_count": null,
      "outputs": [
        {
          "output_type": "stream",
          "name": "stdout",
          "text": [
            "0\n",
            "1\n",
            "1\n",
            "2\n",
            "3\n",
            "5\n",
            "8\n",
            "13\n",
            "21\n",
            "34\n",
            "55\n",
            "89\n",
            "144\n",
            "233\n",
            "377\n"
          ]
        }
      ]
    },
    {
      "cell_type": "code",
      "source": [
        "#6: Write a generator function in Python that yields the powers of 2 up to a given exponent.\n",
        "\n",
        "def powers_of_two(max_exponent):\n",
        "    for i in range(max_exponent + 1):\n",
        "        yield 2 ** i\n",
        "\n",
        "\n",
        "for power in powers_of_two(5):\n",
        "    print(power)"
      ],
      "metadata": {
        "colab": {
          "base_uri": "https://localhost:8080/"
        },
        "id": "skK_ArFuWK-f",
        "outputId": "d6e99d4f-afd8-4da7-cfda-fc6ae593fd20"
      },
      "execution_count": null,
      "outputs": [
        {
          "output_type": "stream",
          "name": "stdout",
          "text": [
            "1\n",
            "2\n",
            "4\n",
            "8\n",
            "16\n",
            "32\n"
          ]
        }
      ]
    },
    {
      "cell_type": "code",
      "source": [
        "#7:  Implement a generator function that reads a file line by line and yields each line as a string.\n",
        "def read_file_line_by_line(file_path):\n",
        "    with open(file_path, 'r') as file:\n",
        "        for line in file:\n",
        "            yield line.strip()  # strip() removes \\n at the end of each line\n",
        "\n",
        "# Example usage:\n",
        "for line in read_file_line_by_line(\"example.txt\"):\n",
        "    print(line)\n"
      ],
      "metadata": {
        "colab": {
          "base_uri": "https://localhost:8080/",
          "height": 329
        },
        "id": "AwXBKZA2WQKN",
        "outputId": "1c2246fc-6370-4a7b-9b7f-c212261cc397"
      },
      "execution_count": null,
      "outputs": [
        {
          "output_type": "error",
          "ename": "FileNotFoundError",
          "evalue": "[Errno 2] No such file or directory: 'example.txt'",
          "traceback": [
            "\u001b[0;31m---------------------------------------------------------------------------\u001b[0m",
            "\u001b[0;31mFileNotFoundError\u001b[0m                         Traceback (most recent call last)",
            "\u001b[0;32m/tmp/ipython-input-24-1558791054.py\u001b[0m in \u001b[0;36m<cell line: 0>\u001b[0;34m()\u001b[0m\n\u001b[1;32m      6\u001b[0m \u001b[0;34m\u001b[0m\u001b[0m\n\u001b[1;32m      7\u001b[0m \u001b[0;31m# Example usage:\u001b[0m\u001b[0;34m\u001b[0m\u001b[0;34m\u001b[0m\u001b[0m\n\u001b[0;32m----> 8\u001b[0;31m \u001b[0;32mfor\u001b[0m \u001b[0mline\u001b[0m \u001b[0;32min\u001b[0m \u001b[0mread_file_line_by_line\u001b[0m\u001b[0;34m(\u001b[0m\u001b[0;34m\"example.txt\"\u001b[0m\u001b[0;34m)\u001b[0m\u001b[0;34m:\u001b[0m\u001b[0;34m\u001b[0m\u001b[0;34m\u001b[0m\u001b[0m\n\u001b[0m\u001b[1;32m      9\u001b[0m     \u001b[0mprint\u001b[0m\u001b[0;34m(\u001b[0m\u001b[0mline\u001b[0m\u001b[0;34m)\u001b[0m\u001b[0;34m\u001b[0m\u001b[0;34m\u001b[0m\u001b[0m\n",
            "\u001b[0;32m/tmp/ipython-input-24-1558791054.py\u001b[0m in \u001b[0;36mread_file_line_by_line\u001b[0;34m(file_path)\u001b[0m\n\u001b[1;32m      1\u001b[0m \u001b[0;31m#7:  Implement a generator function that reads a file line by line and yields each line as a string.\u001b[0m\u001b[0;34m\u001b[0m\u001b[0;34m\u001b[0m\u001b[0m\n\u001b[1;32m      2\u001b[0m \u001b[0;32mdef\u001b[0m \u001b[0mread_file_line_by_line\u001b[0m\u001b[0;34m(\u001b[0m\u001b[0mfile_path\u001b[0m\u001b[0;34m)\u001b[0m\u001b[0;34m:\u001b[0m\u001b[0;34m\u001b[0m\u001b[0;34m\u001b[0m\u001b[0m\n\u001b[0;32m----> 3\u001b[0;31m     \u001b[0;32mwith\u001b[0m \u001b[0mopen\u001b[0m\u001b[0;34m(\u001b[0m\u001b[0mfile_path\u001b[0m\u001b[0;34m,\u001b[0m \u001b[0;34m'r'\u001b[0m\u001b[0;34m)\u001b[0m \u001b[0;32mas\u001b[0m \u001b[0mfile\u001b[0m\u001b[0;34m:\u001b[0m\u001b[0;34m\u001b[0m\u001b[0;34m\u001b[0m\u001b[0m\n\u001b[0m\u001b[1;32m      4\u001b[0m         \u001b[0;32mfor\u001b[0m \u001b[0mline\u001b[0m \u001b[0;32min\u001b[0m \u001b[0mfile\u001b[0m\u001b[0;34m:\u001b[0m\u001b[0;34m\u001b[0m\u001b[0;34m\u001b[0m\u001b[0m\n\u001b[1;32m      5\u001b[0m             \u001b[0;32myield\u001b[0m \u001b[0mline\u001b[0m\u001b[0;34m.\u001b[0m\u001b[0mstrip\u001b[0m\u001b[0;34m(\u001b[0m\u001b[0;34m)\u001b[0m  \u001b[0;31m# strip() removes \\n at the end of each line\u001b[0m\u001b[0;34m\u001b[0m\u001b[0;34m\u001b[0m\u001b[0m\n",
            "\u001b[0;31mFileNotFoundError\u001b[0m: [Errno 2] No such file or directory: 'example.txt'"
          ]
        }
      ]
    },
    {
      "cell_type": "code",
      "source": [
        "#8: Use a lambda function in Python to sort a list of tuples based on the second element of each tuple.\n",
        "tuples = [(1, 3), (2, 1), (4, 2)]\n",
        "sorted_tuples = sorted(tuples, key=lambda x: x[1])\n",
        "print(sorted_tuples)\n",
        "\n"
      ],
      "metadata": {
        "colab": {
          "base_uri": "https://localhost:8080/"
        },
        "id": "H4Z9tM_rWNrY",
        "outputId": "e926fc8a-fc3e-4897-a9eb-32e9a2ee0c69"
      },
      "execution_count": null,
      "outputs": [
        {
          "output_type": "stream",
          "name": "stdout",
          "text": [
            "[(2, 1), (4, 2), (1, 3)]\n"
          ]
        }
      ]
    },
    {
      "cell_type": "code",
      "source": [
        "#9: Write a Python program that uses `map()` to convert a list of temperatures from Celsius to Fahrenheit.\n",
        "celsius = [0, 20, 37, 100]\n",
        "fahrenheit = list(map(lambda c: (c * 9/5) + 32, celsius))\n",
        "\n",
        "print(fahrenheit)"
      ],
      "metadata": {
        "colab": {
          "base_uri": "https://localhost:8080/"
        },
        "id": "LV0A6r_tXB0U",
        "outputId": "40ab1d35-09d2-4511-9cac-7ff0381571c3"
      },
      "execution_count": null,
      "outputs": [
        {
          "output_type": "stream",
          "name": "stdout",
          "text": [
            "[32.0, 68.0, 98.6, 212.0]\n"
          ]
        }
      ]
    },
    {
      "cell_type": "code",
      "source": [
        "#10:Create a Python program that uses `filter()` to remove all the vowels from a given string.\n",
        "def remove_vowels(text):\n",
        "    vowels = \"aeiouAEIOU\"\n",
        "    return ''.join(filter(lambda x: x not in vowels, text))\n",
        "\n",
        "# Example usage:\n",
        "sentence = \"pls stop my installtion payment i already sent a mail\"\n",
        "no_vowels = remove_vowels(sentence)\n",
        "print(no_vowels)\n"
      ],
      "metadata": {
        "colab": {
          "base_uri": "https://localhost:8080/"
        },
        "id": "vM-YebqMfoH8",
        "outputId": "d0e7b825-514e-46dc-9000-d14ec9f10576"
      },
      "execution_count": null,
      "outputs": [
        {
          "output_type": "stream",
          "name": "stdout",
          "text": [
            "pls stp my nstlltn pymnt\n"
          ]
        }
      ]
    },
    {
      "cell_type": "code",
      "source": [
        "#11: Imagine an accounting routine used in a book shop. It works on a list with sublists, which look like this:\n",
        "orders = [\n",
        "    [34587, \"Learning Python, Mark Lutz\", 4, 40.95],\n",
        "    [98762, \"Programming Python, Mark Lutz\", 5, 56.80],\n",
        "    [77226, \"Head First Python, Paul Barry\", 3, 32.95],\n",
        "    [88112, \"Einfuhrung in Python3, Bernd Klein\", 3, 24.99]\n",
        "]\n",
        "\n",
        "\n",
        "order_totals = list(map(lambda order:\n",
        "    (order[0], order[2] * order[3] + 10 if order[2] * order[3] < 100 else order[2] * order[3]), orders))\n",
        "\n",
        "print(order_totals)"
      ],
      "metadata": {
        "colab": {
          "base_uri": "https://localhost:8080/"
        },
        "id": "YeWwIXkIfr5n",
        "outputId": "798ae8c3-af78-4a3b-fe1f-0b58ec46a09a"
      },
      "execution_count": null,
      "outputs": [
        {
          "output_type": "stream",
          "name": "stdout",
          "text": [
            "[(34587, 163.8), (98762, 284.0), (77226, 108.85000000000001), (88112, 84.97)]\n"
          ]
        }
      ]
    },
    {
      "cell_type": "code",
      "source": [],
      "metadata": {
        "id": "OXVVWtfZgi9f"
      },
      "execution_count": null,
      "outputs": []
    }
  ]
}